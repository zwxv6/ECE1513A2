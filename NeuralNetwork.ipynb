{
  "cells": [
    {
      "cell_type": "code",
      "execution_count": null,
      "metadata": {
        "id": "-bL0awqcfZY7"
      },
      "outputs": [],
      "source": [
        "import numpy as np\n",
        "import seaborn as sns\n",
        "import matplotlib.pyplot as plt\n",
        "\n",
        "\n",
        "from sklearn.datasets import load_iris\n",
        "from sklearn.model_selection import train_test_split\n",
        "from sklearn.neural_network import MLPClassifier\n",
        "from sklearn.metrics import confusion_matrix"
      ]
    },
    {
      "cell_type": "code",
      "execution_count": null,
      "metadata": {
        "id": "f7mhkeFifagW"
      },
      "outputs": [],
      "source": [
        "def fit_NeuralNetwork(X_train,y_train,alpha,hidden_layer_sizes,epochs):\n",
        "    #Enter implementation here\n",
        "    d = hidden_layer_sizes[0]\n",
        "    X_train = np.hstack([np.ones((X_train.shape[0], 1)), X_train])\n",
        "    N = X_train.shape[0]\n",
        "\n",
        "    # set weight of all layers\n",
        "    wAll = [] # use to store weights of all layer\n",
        "    w1 = []\n",
        "    # according input to set first layer weights\n",
        "    for d in range(0,d):\n",
        "      w1temp = np.random.normal(0, 0.1)\n",
        "      w1.append(w1temp)\n",
        "\n",
        "    weight1 = [] # store all weights of input layer to hidden layer\n",
        "    for a in range(0,X_train.shape[1]):\n",
        "      weight1.append(w1)\n",
        "\n",
        "    wAll.append(weight1)\n",
        "    # according hiddern layer size to set hiddern layer and output layer weights\n",
        "    for g in range(len(hidden_layer_sizes)-1):\n",
        "      w = []\n",
        "      for e in range(0,hidden_layer_sizes[g+1]):\n",
        "        wtemp = np.random.normal(0, 0.1)\n",
        "        w.append(wtemp)\n",
        "\n",
        "      weight = [] # store all weights of each hidden layer\n",
        "      for b in range(0,hidden_layer_sizes[g]+1):\n",
        "        weight.append(w)\n",
        "\n",
        "      wAll.append(weight)\n",
        "\n",
        "    wLast = [] # store all weights of hidden layer to output layer\n",
        "    for f in range(0,hidden_layer_sizes[len(hidden_layer_sizes)-1]+1):\n",
        "      wLasttemp = np.random.normal(0, 0.1)\n",
        "      wLast.append(wLasttemp)\n",
        "\n",
        "    wAll.append(wLast)\n",
        "\n",
        "    errAll = []\n",
        "\n",
        "    for i in range(epochs):\n",
        "      errAverge = 0\n",
        "      choiceArray=np.arange(0, N)\n",
        "      np.random.shuffle(choiceArray)\n",
        "      for n in range(0, N):\n",
        "        index=choiceArray[n]\n",
        "        x=np.transpose(X_train[index])\n",
        "        X = []\n",
        "        S = []\n",
        "        g = []\n",
        "        X,S = forwardPropagation(x,wAll) # run forward propagation to get X and S\n",
        "        g = backPropagation(X,y_train[index],S,wAll) # using X and S got from forward propagation to compute g by back propagation\n",
        "        wAll = updateWeights(wAll,g,alpha) # update weights by using g which got from back propagation\n",
        "        xlt = X[len(X)-1] # X_L\n",
        "        errAverge = errAverge + errorPerSample(xlt,y_train[index])\n",
        "\n",
        "      errAverge = errAverge/X_train.shape[0]\n",
        "      errAll.append(errAverge)\n",
        "\n",
        "    return errAll,wAll\n"
      ]
    },
    {
      "cell_type": "code",
      "execution_count": null,
      "metadata": {
        "id": "2L9-rwcnfbvn"
      },
      "outputs": [],
      "source": [
        "def forwardPropagation(x, weights):\n",
        "    #Enter implementation here\n",
        "    S = [] # store all s during the forward propagation\n",
        "    X = [] # store all x during the forward propagation\n",
        "    X.append(x)\n",
        "    wLast = weights[len(weights)-1] # get the weights from hiddern layer to output layer\n",
        "    xL = 0\n",
        "\n",
        "    xCurrent = []\n",
        "    xCurrent = x # x of current layer\n",
        "    # compute s and x of each layer\n",
        "    for g in range(len(weights)-1):\n",
        "      wCurrent = weights[g] # get the weights from current layer to next layer\n",
        "      sList = [] # store s which output from dot product\n",
        "      for i in range(len(wCurrent[0])):\n",
        "        temps = 0\n",
        "        for a in range(len(xCurrent)): # sum of x multiply weights to get s\n",
        "          wtemp = []\n",
        "          wtemp = wCurrent[a]\n",
        "          temps = temps + wtemp[i]*xCurrent[a]\n",
        "        sList.append(temps)\n",
        "      S.append(sList)\n",
        "\n",
        "      xList = [] # store x which output from activation function\n",
        "      for j in range(len(sList)): # using of s for activation function to get x of next layer\n",
        "        tempx = activation(sList[j])\n",
        "        xList.append(tempx)\n",
        "      xCurrent = xList\n",
        "      X.append(xCurrent)\n",
        "\n",
        "      xCurrent.insert(0,1) # add augmented vector for x of hidden layer\n",
        "\n",
        "    # compute s and output X_L\n",
        "    sLast = np.dot(xCurrent,wLast)\n",
        "    xL = outputf(sLast)\n",
        "    S.append(sLast)\n",
        "    X.append(xL)\n",
        "\n",
        "    return X,S\n"
      ]
    },
    {
      "cell_type": "code",
      "execution_count": null,
      "metadata": {
        "id": "x2KbIOc5fdEI"
      },
      "outputs": [],
      "source": [
        "def errorPerSample(X,y_n):\n",
        "    #Enter implementation here\n",
        "    err = 0\n",
        "    err = errorf(X,y_n)\n",
        "\n",
        "    return err\n"
      ]
    },
    {
      "cell_type": "code",
      "execution_count": null,
      "metadata": {
        "id": "woZrS2W5feHU"
      },
      "outputs": [],
      "source": [
        "def backPropagation(X,y_n,s,weights):\n",
        "    #Enter implementation here\n",
        "    sLast = s[len(s)-1]\n",
        "    sBeforeLast = s[len(s)-2]\n",
        "    xL = X[len(X)-1] #X_L\n",
        "    xBeforeLast = X[len(X)-2] # x before the output layer\n",
        "    wLast = weights[len(weights)-1] # get the weights from hiddern layer to output layer\n",
        "    dsBeforeLast = 0 # de/ds of x before the output layer\n",
        "    deltaBeforeLast = [] # backward message of the layer before the output layer\n",
        "    deltaAll = [] # store backward message of all layers\n",
        "    gBeforeLast = []\n",
        "    gfinal = []\n",
        "\n",
        "    # compute backward message of last layer\n",
        "    deltaLast = derivativeError(xL,y_n)*derivativeOutput(sLast)\n",
        "\n",
        "    # individually compute backward message of the layer before the last layer\n",
        "    # since this layer has different calcultion method for s with other layers\n",
        "    for a in range(len(sBeforeLast)):\n",
        "      dedxBeforeLast = deltaLast*wLast[a] # dedx\n",
        "      dsBeforeLast = derivativeActivation(sBeforeLast[a]) # deds\n",
        "      tempdeltaBeforeLast = dedxBeforeLast*dsBeforeLast # dedx*deds\n",
        "      deltaBeforeLast.append(tempdeltaBeforeLast)\n",
        "\n",
        "    # compute backward message of hidden layers\n",
        "    currentDelta = []\n",
        "    currentDelta = deltaBeforeLast\n",
        "    for g in range(len(weights)-2):\n",
        "      deltaList = []\n",
        "      sCurrent = []\n",
        "      wCurrent = []\n",
        "      sCurrent = s[len(weights)-2-1-g]\n",
        "      wCurrent = weights[len(weights)-2-1-g+1]\n",
        "      for b in range(len(sCurrent)):\n",
        "        dsCurrent = derivativeActivation(sCurrent[b]) # deds\n",
        "        dedx1 = 0\n",
        "        wtemp = wCurrent[b]\n",
        "        dedx = np.dot(wtemp, currentDelta) # dedx\n",
        "        tempdelta = dedx*dsCurrent # dedx*deds\n",
        "        deltaList.append(tempdelta)\n",
        "      currentDelta = deltaList\n",
        "      deltaAll.append(currentDelta)\n",
        "\n",
        "    # compute dedw of each weights of each layer\n",
        "    dwLast = []\n",
        "    for e in range(len(xBeforeLast)): # for last layer\n",
        "      tempdwLast = deltaLast*xBeforeLast[e] # backward messgae mulitply x\n",
        "      dwLast.append(tempdwLast)\n",
        "    gfinal.append(dwLast)\n",
        "\n",
        "    xForThisLayer = X[len(X)-3]\n",
        "    for d in range(len(xForThisLayer)):\n",
        "      dwBeforeLast = []\n",
        "      for e in range(len(deltaBeforeLast)): # for the layer before the last layer\n",
        "        tempdwBeforeLast = deltaBeforeLast[e]*xForThisLayer[d] # backward messgae mulitply x\n",
        "        dwBeforeLast.append(tempdwBeforeLast)\n",
        "      gBeforeLast.append(dwBeforeLast)\n",
        "    gfinal.append(gBeforeLast)\n",
        "\n",
        "    for c in range(len(deltaAll)):\n",
        "      gList = []\n",
        "      xCurrent = []\n",
        "      detlaCurrent = []\n",
        "      xCurrent = X[len(deltaAll)-1-c]\n",
        "      detlaCurrent = deltaAll[len(deltaAll)-1-c]\n",
        "      for f in range(len(xCurrent)): # for the general hiddern layers\n",
        "        dw = []\n",
        "        for g in range(len(detlaCurrent)):\n",
        "          tempdw = detlaCurrent[g]*xCurrent[f] # backward messgae mulitply x\n",
        "          dw.append(tempdw)\n",
        "        gList.append(dw)\n",
        "      gfinal.append(gList)\n",
        "\n",
        "    return gfinal\n"
      ]
    },
    {
      "cell_type": "code",
      "execution_count": null,
      "metadata": {
        "id": "M7kYNdfUffqF"
      },
      "outputs": [],
      "source": [
        "def updateWeights(weights,g,alpha):\n",
        "    #Enter implementation here\n",
        "    nW = [] # store new weights of all layers\n",
        "\n",
        "    for f in range(len(weights)):\n",
        "      wCurrent = weights[f] # get weights of each layers\n",
        "      gCurent = np.asarray(g[len(weights)-1-f]) # get g of each weights\n",
        "      for i in range(len(wCurrent)):\n",
        "        wCurrent[i] = wCurrent[i] - alpha * gCurent[i] # wi = wi - alpha*gi\n",
        "      nW.append(wCurrent)\n",
        "\n",
        "    return nW\n"
      ]
    },
    {
      "cell_type": "code",
      "execution_count": null,
      "metadata": {
        "id": "CrYKYNTYfh2z"
      },
      "outputs": [],
      "source": [
        "def activation(s):\n",
        "  #Enter implementation here\n",
        "    output = 0\n",
        "    if s > 0: # ReLu function\n",
        "        output = s\n",
        "    else:\n",
        "        output = 0\n",
        "\n",
        "    return output\n"
      ]
    },
    {
      "cell_type": "code",
      "execution_count": null,
      "metadata": {
        "id": "CF9xix5cfjXF"
      },
      "outputs": [],
      "source": [
        "def derivativeActivation(s):\n",
        "    #Enter implementation here\n",
        "    output = 0\n",
        "    if s > 0:\n",
        "        output = 1\n",
        "    else:\n",
        "        output = 0\n",
        "\n",
        "    return output\n"
      ]
    },
    {
      "cell_type": "code",
      "execution_count": null,
      "metadata": {
        "id": "ZSYPuDEafkZl"
      },
      "outputs": [],
      "source": [
        "def outputf(s):\n",
        "    #Enter implementation here\n",
        "    x_L = 0\n",
        "    x_L = 1/(1+np.exp(-s))\n",
        "\n",
        "    return x_L\n"
      ]
    },
    {
      "cell_type": "code",
      "execution_count": null,
      "metadata": {
        "id": "s9h4FKtZfleS"
      },
      "outputs": [],
      "source": [
        "def derivativeOutput(s):\n",
        "    #Enter implementation here\n",
        "    x_L = 0\n",
        "    x_L = np.exp(-s)/pow(1+np.exp(-s),2)\n",
        "\n",
        "    return x_L"
      ]
    },
    {
      "cell_type": "code",
      "execution_count": null,
      "metadata": {
        "id": "ev21c0nKfmwm"
      },
      "outputs": [],
      "source": [
        "def errorf(x_L,y):\n",
        "    #Enter implementation here\n",
        "    en = 0\n",
        "\n",
        "    if y == 1:\n",
        "        en = -np.log(x_L)\n",
        "    elif y == -1:\n",
        "        en = -np.log(1-x_L)\n",
        "\n",
        "    return en\n"
      ]
    },
    {
      "cell_type": "code",
      "execution_count": null,
      "metadata": {
        "id": "TFYVkUZFfn58"
      },
      "outputs": [],
      "source": [
        "def derivativeError(x_L,y):\n",
        "    #Enter implementation here\n",
        "    dedx = 0\n",
        "    if y == 1:\n",
        "        dedx = -1/x_L\n",
        "    elif y == -1:\n",
        "        dedx = 1/(1-x_L)\n",
        "\n",
        "    return dedx\n"
      ]
    },
    {
      "cell_type": "code",
      "execution_count": null,
      "metadata": {
        "id": "p-Uc3MEgfo-n"
      },
      "outputs": [],
      "source": [
        "def pred(x_n,weights):\n",
        "    #Enter implementation here\n",
        "    c = []\n",
        "    for a in range(x_n.shape[0]):\n",
        "      X,S = forwardPropagation(x_n[a], weights) # run forward propagation to get X\n",
        "      yHat = 0\n",
        "      X_L = X[len(X)-1]\n",
        "      if X_L < 0.5:\n",
        "        yHat = -1\n",
        "      else:\n",
        "        yHat = 1\n",
        "      c.append(yHat)\n",
        "\n",
        "    return c\n",
        "\n"
      ]
    },
    {
      "cell_type": "code",
      "execution_count": null,
      "metadata": {
        "id": "9Q7Uu52jfqnz"
      },
      "outputs": [],
      "source": [
        "def confMatrix(X_train,y_train,w):\n",
        "    #Enter implementation here\n",
        "    m = np.ones((2,2))\n",
        "    TrueNegative = 0\n",
        "    FalsePositive = 0\n",
        "    FalseNegative = 0\n",
        "    TruePositive = 0\n",
        "\n",
        "    X_train = np.hstack([np.ones((X_train.shape[0], 1)), X_train])\n",
        "    c = pred(X_train,w)\n",
        "    for i in range(y_train.shape[0]):\n",
        "      if c[i] == -1:\n",
        "        if y_train[i] == -1:\n",
        "          TrueNegative = TrueNegative + 1\n",
        "        elif y_train[i] == 1:\n",
        "          FalsePositive = FalsePositive + 1\n",
        "      elif c[i] == 1:\n",
        "        if y_train[i] == -1:\n",
        "          FalseNegative = FalseNegative + 1\n",
        "        elif y_train[i] == 1:\n",
        "          TruePositive = TruePositive + 1\n",
        "\n",
        "    m[0][0] = TrueNegative\n",
        "    m[0][1] = FalsePositive\n",
        "    m[1][0] = FalseNegative\n",
        "    m[1][1] = TruePositive\n",
        "\n",
        "    return m\n",
        "\n"
      ]
    },
    {
      "cell_type": "code",
      "execution_count": null,
      "metadata": {
        "id": "7hhZQRfCfsE0"
      },
      "outputs": [],
      "source": [
        "def plotErr(e,epochs):\n",
        "    #Enter implementation here\n",
        "    x = list(range(1,epochs+1))\n",
        "    y = e\n",
        "\n",
        "    plt.plot(x,y)\n",
        "    plt.show\n"
      ]
    },
    {
      "cell_type": "code",
      "execution_count": null,
      "metadata": {
        "id": "NIjycdBZftJN"
      },
      "outputs": [],
      "source": [
        "def test_SciKit(X_train, X_test, Y_train, Y_test):\n",
        "    #Enter implementation here\n",
        "    pct = MLPClassifier(solver='adam', alpha=1e-5, hidden_layer_sizes=(30, 10), random_state=1)\n",
        "    pct.fit(X_train,Y_train)\n",
        "\n",
        "    pred_pct=pct.predict(X_test)\n",
        "    print ('Test accuracy: ', pct.score(X_test, Y_test))\n",
        "\n",
        "    m = confusion_matrix(Y_test,pred_pct)\n",
        "\n",
        "    pred_pct=pct.predict(X_train)\n",
        "    print ('Train accuracy: ',pct.score(X_train, Y_train))\n",
        "\n",
        "\n",
        "    return m\n"
      ]
    },
    {
      "cell_type": "code",
      "execution_count": null,
      "metadata": {
        "colab": {
          "base_uri": "https://localhost:8080/",
          "height": 409
        },
        "id": "jSsRHVCdfuvG",
        "outputId": "95e734c4-9baa-478d-d4ad-80ad13c70c56"
      },
      "outputs": [
        {
          "output_type": "stream",
          "name": "stdout",
          "text": [
            "Test accuracy:  0.9\n",
            "Train accuracy:  0.9625\n",
            "Confusion Matrix is from Part 1a is:  [[ 6.  1.]\n",
            " [ 2. 11.]]\n",
            "Confusion Matrix from Part 1b is: [[ 7  1]\n",
            " [ 1 11]]\n"
          ]
        },
        {
          "output_type": "stream",
          "name": "stderr",
          "text": [
            "/usr/local/lib/python3.7/dist-packages/sklearn/neural_network/_multilayer_perceptron.py:696: ConvergenceWarning: Stochastic Optimizer: Maximum iterations (200) reached and the optimization hasn't converged yet.\n",
            "  ConvergenceWarning,\n"
          ]
        },
        {
          "output_type": "display_data",
          "data": {
            "text/plain": [
              "<Figure size 432x288 with 1 Axes>"
            ],
            "image/png": "[encoded data removed]"
          },
          "metadata": {
            "needs_background": "light"
          }
        }
      ],
      "source": [
        "def test_Part1():\n",
        "    from sklearn.datasets import load_iris\n",
        "    X_train, y_train = load_iris(return_X_y=True)\n",
        "    X_train, X_test, y_train, y_test = train_test_split(X_train[50:],y_train[50:],test_size=0.2, random_state=1)\n",
        "\n",
        "    for i in range(80):\n",
        "        if y_train[i]==1:\n",
        "            y_train[i]=-1\n",
        "        else:\n",
        "            y_train[i]=1\n",
        "    for j in range(20):\n",
        "        if y_test[j]==1:\n",
        "            y_test[j]=-1\n",
        "        else:\n",
        "            y_test[j]=1\n",
        "\n",
        "    err,w=fit_NeuralNetwork(X_train,y_train,1e-2,[30, 10],100)\n",
        "\n",
        "    plotErr(err,100)\n",
        "\n",
        "    cM=confMatrix(X_test,y_test,w)\n",
        "\n",
        "    sciKit=test_SciKit(X_train, X_test, y_train, y_test)\n",
        "\n",
        "    print(\"Confusion Matrix is from Part 1a is: \",cM)\n",
        "    print(\"Confusion Matrix from Part 1b is:\",sciKit)\n",
        "\n",
        "test_Part1()\n"
      ]
    }
  ],
  "metadata": {
    "colab": {
      "provenance": []
    },
    "kernelspec": {
      "display_name": "Python 3",
      "name": "python3"
    },
    "language_info": {
      "name": "python"
    }
  },
  "nbformat": 4,
  "nbformat_minor": 0
}